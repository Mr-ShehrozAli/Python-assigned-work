{
 "cells": [
  {
   "cell_type": "code",
   "execution_count": 5,
   "metadata": {},
   "outputs": [
    {
     "name": "stdout",
     "output_type": "stream",
     "text": [
      "Twinkle, twinkle, little star,\n",
      "        How I wonder what you are!\n",
      "              Up above the world so high,\n",
      "              Like a diamond in the sky.\n",
      "Twinkle, twinkle, little star,\n",
      "        How I wonder what you are!\n"
     ]
    }
   ],
   "source": [
    "#A Python program to print the following string in a specific format as given. \n",
    "print (\"Twinkle, twinkle, little star,\")\n",
    "print (\"        How I wonder what you are!\")\n",
    "print (\"              Up above the world so high,\")\n",
    "print (\"              Like a diamond in the sky.\")\n",
    "print (\"Twinkle, twinkle, little star,\")\n",
    "print (\"        How I wonder what you are!\")"
   ]
  },
  {
   "cell_type": "code",
   "execution_count": 6,
   "metadata": {},
   "outputs": [
    {
     "name": "stdout",
     "output_type": "stream",
     "text": [
      "3.7.4 (default, Aug  9 2019, 18:34:13) [MSC v.1915 64 bit (AMD64)]\n"
     ]
    }
   ],
   "source": [
    "# a Python program to check the Python version you are using \n",
    "import sys\n",
    "print(sys.version)"
   ]
  },
  {
   "cell_type": "code",
   "execution_count": 8,
   "metadata": {},
   "outputs": [
    {
     "name": "stdout",
     "output_type": "stream",
     "text": [
      "Input the radius of the circle : 3\n",
      "The area of the circle with radius 3.0 is: 28.26\n"
     ]
    }
   ],
   "source": [
    "# A Python program which accepts the radius of a circle from the user and compute the area\n",
    "pi = 3.14\n",
    "rad = float(input (\"Input the radius of the circle : \"))\n",
    "print (\"The area of the circle with radius \" + str(rad) + \" is: \" + str(pi * rad**2))\n"
   ]
  },
  {
   "cell_type": "code",
   "execution_count": 9,
   "metadata": {},
   "outputs": [
    {
     "name": "stdout",
     "output_type": "stream",
     "text": [
      "Kindly input your First Name : shehroz\n",
      "Kindly input your Last Name : ali\n",
      "ali shehroz\n"
     ]
    }
   ],
   "source": [
    "#A Python program which accepts the user's first and last name and print them in reverse order with a space between them\n",
    "f_name = input(\"Kindly input your First Name : \")\n",
    "L_name = input(\"Kindly input your Last Name : \")\n",
    "print (L_name + \" \" + f_name)"
   ]
  },
  {
   "cell_type": "code",
   "execution_count": 11,
   "metadata": {},
   "outputs": [
    {
     "name": "stdout",
     "output_type": "stream",
     "text": [
      "Kindly input First Number for addition : 3\n",
      "Kindly input Second Number for addition : 4\n",
      "7\n"
     ]
    }
   ],
   "source": [
    "#A python program which takes two inputs from user and print them addition \n",
    "num1 = int(input(\"Kindly input First Number for addition : \"))\n",
    "num2 = int(input(\"Kindly input Second Number for addition : \"))\n",
    "ans = num1+num2\n",
    "print (ans)"
   ]
  },
  {
   "cell_type": "code",
   "execution_count": 15,
   "metadata": {},
   "outputs": [
    {
     "name": "stdout",
     "output_type": "stream",
     "text": [
      "Current date and time : \n",
      "22-11-2019 23:17:38\n"
     ]
    }
   ],
   "source": [
    "# A Python program to display the current date and time. \n",
    "import datetime\n",
    "now = datetime.datetime.now()\n",
    "print (\"Current date and time : \")\n",
    "print (now.strftime(\"%d-%m-%Y %H:%M:%S\")) #Printed in Pakistani format\n"
   ]
  },
  {
   "cell_type": "code",
   "execution_count": null,
   "metadata": {},
   "outputs": [],
   "source": []
  }
 ],
 "metadata": {
  "kernelspec": {
   "display_name": "Python 3",
   "language": "python",
   "name": "python3"
  },
  "language_info": {
   "codemirror_mode": {
    "name": "ipython",
    "version": 3
   },
   "file_extension": ".py",
   "mimetype": "text/x-python",
   "name": "python",
   "nbconvert_exporter": "python",
   "pygments_lexer": "ipython3",
   "version": "3.7.4"
  }
 },
 "nbformat": 4,
 "nbformat_minor": 2
}
