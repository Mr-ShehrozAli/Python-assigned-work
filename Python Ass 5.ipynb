{
 "cells": [
  {
   "cell_type": "code",
   "execution_count": 4,
   "metadata": {},
   "outputs": [
    {
     "name": "stdout",
     "output_type": "stream",
     "text": [
      "Insert factorial number : 6\n",
      "Factorial Calculated:  720\n"
     ]
    }
   ],
   "source": [
    "#Question1\n",
    "def factorial_cal(fact):\n",
    "    res=1\n",
    "    while fact !=0:\n",
    "        res *=fact\n",
    "        fact = fact-1\n",
    "    \n",
    "    print(\"Factorial Calculated: \",res)\n",
    "\n",
    "facto = int(input(\"Insert factorial number : \"))\n",
    "factorial_cal(facto)"
   ]
  },
  {
   "cell_type": "code",
   "execution_count": 8,
   "metadata": {},
   "outputs": [
    {
     "name": "stdout",
     "output_type": "stream",
     "text": [
      "Enter any string :Shehroz Ali\n",
      "You entered: Shehroz Ali\n",
      "Uppercase letter : 2\n",
      "Lowercase letter : 8\n"
     ]
    }
   ],
   "source": [
    "#Question2\n",
    "def cal_str(string):\n",
    "    up_count = 0\n",
    "    low_count = 0\n",
    "    \n",
    "    for a in string:\n",
    "        if a.isupper():\n",
    "            up_count +=1\n",
    "        elif a.islower():\n",
    "            low_count +=1\n",
    "        else:\n",
    "            pass\n",
    "    print(\"You entered:\",string)\n",
    "    print(\"Uppercase letter :\", up_count)\n",
    "    print(\"Lowercase letter :\", low_count)\n",
    "        \n",
    "input_string = input(\"Enter any string :\")\n",
    "cal_str(input_string)"
   ]
  },
  {
   "cell_type": "code",
   "execution_count": 9,
   "metadata": {},
   "outputs": [
    {
     "name": "stdout",
     "output_type": "stream",
     "text": [
      "[4, 10, 2, 4]\n"
     ]
    }
   ],
   "source": [
    "#Question3\n",
    "def even_num(num):\n",
    "    even =[]\n",
    "    for n in num:\n",
    "        if n % 2 ==0:\n",
    "            even.append(n)\n",
    "    return even\n",
    "\n",
    "list1=[1,4,7,9,10,13,2,4,3,9]\n",
    "print(even_num(list1))"
   ]
  },
  {
   "cell_type": "code",
   "execution_count": 10,
   "metadata": {},
   "outputs": [
    {
     "name": "stdout",
     "output_type": "stream",
     "text": [
      "Enter a word or sentence to check it is palindrome or not :LOL\n",
      "you Entered Palindrome : LOL\n"
     ]
    }
   ],
   "source": [
    "#Question4\n",
    "getinput =input(\"Enter a word or sentence to check it is palindrome or not :\")\n",
    "\n",
    "def check(get):\n",
    "    palindrome = (get[::-1])\n",
    "    if get == palindrome:\n",
    "        print(\"you Entered Palindrome :\",palindrome)\n",
    "    else:\n",
    "        print(\"Your Input is not palindrome\")\n",
    "check(getinput)"
   ]
  },
  {
   "cell_type": "code",
   "execution_count": 17,
   "metadata": {},
   "outputs": [
    {
     "name": "stdout",
     "output_type": "stream",
     "text": [
      "You don't know what is prime number!Don't worry, Just enter a number and we will help you to check it is prime or not:3\n",
      "3 is a prime no\n"
     ]
    }
   ],
   "source": [
    "#Question5\n",
    "getinput = int(input(\"You don't know what is prime number!Don't worry, Just enter a number and we will help you to check it is prime or not:\"))\n",
    "def primefunc(primeno):\n",
    "    prime=0\n",
    "    i=2\n",
    "    while i<primeno:\n",
    "        if primeno % i ==0:\n",
    "            prime = prime+1\n",
    "        i = i+1\n",
    "    if prime>0:\n",
    "        print(str(primeno) + \" \" + \"is not a prime no\")\n",
    "    else:\n",
    "        print(str(primeno) +\" \"+ \"is a prime no\")\n",
    "        \n",
    "\n",
    "primefunc(getinput)"
   ]
  },
  {
   "cell_type": "code",
   "execution_count": 19,
   "metadata": {},
   "outputs": [
    {
     "name": "stdout",
     "output_type": "stream",
     "text": [
      "Customer bought Tomatoes 1 KG\n",
      "Customer bought broceli 500 g\n",
      "Customer bought Apple 1 KG\n"
     ]
    }
   ],
   "source": [
    "#Question6\n",
    "def shopping_list(*items):\n",
    "    for item in items:\n",
    "        print(\"Customer bought\",item)\n",
    "\n",
    "shopping_list('Tomatoes 1 KG','broceli 500 g','Apple 1 KG')"
   ]
  },
  {
   "cell_type": "code",
   "execution_count": null,
   "metadata": {},
   "outputs": [],
   "source": []
  }
 ],
 "metadata": {
  "kernelspec": {
   "display_name": "Python 3",
   "language": "python",
   "name": "python3"
  },
  "language_info": {
   "codemirror_mode": {
    "name": "ipython",
    "version": 3
   },
   "file_extension": ".py",
   "mimetype": "text/x-python",
   "name": "python",
   "nbconvert_exporter": "python",
   "pygments_lexer": "ipython3",
   "version": "3.7.4"
  }
 },
 "nbformat": 4,
 "nbformat_minor": 2
}
