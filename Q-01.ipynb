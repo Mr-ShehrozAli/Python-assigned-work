{
 "cells": [
  {
   "cell_type": "code",
   "execution_count": 1,
   "metadata": {},
   "outputs": [
    {
     "name": "stdout",
     "output_type": "stream",
     "text": [
      "Enter marks of subject 1:\n",
      "80\n",
      "Enter marks of subject 2:\n",
      "90\n",
      "Enter marks of subject 3:\n",
      "70\n",
      "Enter marks of subject 4:\n",
      "60\n",
      "Enter marks of subject 5:\n",
      "85\n",
      "Percentage = 77.0\n",
      "Total marks = 385\n",
      "Grade = A\n",
      "Status = Pass\n"
     ]
    }
   ],
   "source": [
    "sub1 = int(input(\"Enter marks of subject 1:\\n\"))\n",
    "sub2 = int(input(\"Enter marks of subject 2:\\n\"))\n",
    "sub3 = int(input(\"Enter marks of subject 3:\\n\"))\n",
    "sub4 = int(input(\"Enter marks of subject 4:\\n\"))\n",
    "sub5 = int(input(\"Enter marks of subject 5:\\n\"))\n",
    "total = sub1 + sub2 + sub3 + sub4 + sub5\n",
    "per = (total/500) * 100\n",
    "status = \"Pass\"\n",
    "if per >= 80 and per <= 100:\n",
    "    grade = \"A+\"\n",
    "elif per >= 70 and per < 80:\n",
    "    grade = \"A\"\n",
    "elif per >= 60 and per < 70:\n",
    "    grade = \"B\"\n",
    "elif per >= 50 and per < 60:\n",
    "    grade = \"C\"\n",
    "elif per >= 40 and per < 50:\n",
    "    grade = \"D\"\n",
    "elif per >= 33 and per < 40:\n",
    "    grade = \"E\"\n",
    "elif per >= 0 and per < 33:\n",
    "    grade = \"F\"\n",
    "    status = \"Fail\"\n",
    "else:\n",
    "    print(\"Invalid entry!\")\n",
    "if sub1 < 33 or sub2 < 33 or sub3 < 33 or sub4 < 33 or sub5 < 33:\n",
    "    grade = \"F\"\n",
    "    status = \"Fail\"\n",
    "print(\"Percentage = \" + str(per))\n",
    "print(\"Total marks = \" + str(total))\n",
    "print(\"Grade = \" + grade)\n",
    "print(\"Status = \" + status)"
   ]
  },
  {
   "cell_type": "code",
   "execution_count": null,
   "metadata": {},
   "outputs": [],
   "source": []
  }
 ],
 "metadata": {
  "kernelspec": {
   "display_name": "Python 3",
   "language": "python",
   "name": "python3"
  },
  "language_info": {
   "codemirror_mode": {
    "name": "ipython",
    "version": 3
   },
   "file_extension": ".py",
   "mimetype": "text/x-python",
   "name": "python",
   "nbconvert_exporter": "python",
   "pygments_lexer": "ipython3",
   "version": "3.7.4"
  }
 },
 "nbformat": 4,
 "nbformat_minor": 2
}
