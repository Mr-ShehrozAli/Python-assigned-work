{
 "cells": [
  {
   "cell_type": "code",
   "execution_count": 1,
   "metadata": {},
   "outputs": [
    {
     "name": "stdout",
     "output_type": "stream",
     "text": [
      "Enter first name: Shehroz\n",
      "Enter last name: ALi\n",
      "Enter age: 20\n",
      "Enter city: karachi\n",
      "{'first_name': 'Shehroz', 'last_name': 'ALi', 'age': '20', 'city': 'karachi'}\n",
      "Enter qualification: BSSE in progress\n",
      "BSSE in progress\n"
     ]
    }
   ],
   "source": [
    "#Question 1\n",
    "person_info = {}\n",
    "person_info[\"first_name\"] = input(\"Enter first name: \")\n",
    "person_info[\"last_name\"] = input(\"Enter last name: \")\n",
    "person_info[\"age\"] = input(\"Enter age: \")\n",
    "person_info[\"city\"] = input(\"Enter city: \")\n",
    "print(person_info)\n",
    "person_info[\"qualification\"] = input(\"Enter qualification: \")\n",
    "print(person_info[\"qualification\"])\n",
    "del person_info[\"qualification\"]"
   ]
  },
  {
   "cell_type": "code",
   "execution_count": 2,
   "metadata": {},
   "outputs": [
    {
     "name": "stdout",
     "output_type": "stream",
     "text": [
      "City: Karachi\n",
      "Information {'country': 'Pakistan', 'population': '14.91 million', 'fact': 'It is the most populous city in Pakistan'}\n",
      "City: London\n",
      "Information {'country': 'England', 'population': '8.9 million', 'fact': 'Capital of UK'}\n",
      "City: New York\n",
      "Information {'country': 'USA', 'population': '8.6 million', 'fact': 'Capital of USA'}\n"
     ]
    }
   ],
   "source": [
    "#Question2\n",
    "cities = {\"Karachi\": {}, \"London\": {}, \"New York\": {}}\n",
    "information_karachi = {\"country\": \"Pakistan\", \"population\": \"14.91 million\", \"fact\": \"It is the most populous city in Pakistan\"}\n",
    "information_london = {\"country\": \"England\", \"population\": \"8.9 million\", \"fact\": \"Capital of UK\"}\n",
    "information_ny = {\"country\": \"USA\", \"population\": \"8.6 million\", \"fact\": \"Capital of USA\"}\n",
    "\n",
    "cities[\"Karachi\"] = information_karachi\n",
    "cities[\"London\"] = information_london\n",
    "cities[\"New York\"] = information_ny\n",
    "\n",
    "for i, j in cities.items():\n",
    "    print(\"City:\",i)\n",
    "    print(\"Information\",j)"
   ]
  },
  {
   "cell_type": "code",
   "execution_count": 3,
   "metadata": {},
   "outputs": [
    {
     "name": "stdout",
     "output_type": "stream",
     "text": [
      "How many tickets you want to buy: 3\n",
      "Enter age: 20\n",
      "The ticket is $15\n",
      "Enter age: 3\n",
      "The ticket is $10\n",
      "Enter age: 6\n",
      "The ticket is $10\n"
     ]
    }
   ],
   "source": [
    "#Question3\n",
    "n = int(input(\"How many tickets you want to buy: \"))\n",
    "for i in range(n):\n",
    "    age = int(input(\"Enter age: \"))\n",
    "    if age < 3:\n",
    "        print(\"Ticket is free\")\n",
    "    elif age >= 3 and age <= 12:\n",
    "        print(\"The ticket is $10\")\n",
    "    else:\n",
    "        print(\"The ticket is $15\")"
   ]
  },
  {
   "cell_type": "code",
   "execution_count": 5,
   "metadata": {},
   "outputs": [
    {
     "name": "stdout",
     "output_type": "stream",
     "text": [
      "This is my favorite books  Smarter way to learn python\n"
     ]
    }
   ],
   "source": [
    "#Question4\n",
    "def fav_book(title):\n",
    "    print(\"This is my favorite books  \" + title)\n",
    "    \n",
    "fav_book(\"Smarter way to learn python\")"
   ]
  },
  {
   "cell_type": "code",
   "execution_count": 8,
   "metadata": {},
   "outputs": [
    {
     "name": "stdout",
     "output_type": "stream",
     "text": [
      "Enter a number: 20\n",
      "Your answer is greater than number\n",
      "Enter a number: 2\n",
      "Your answer is less than number\n",
      "Enter a number: 0\n",
      "Your answer is less than number\n"
     ]
    }
   ],
   "source": [
    "#Question5\n",
    "import random\n",
    "num = random.randint(1,30)\n",
    "for i in range(3):\n",
    "    a = int(input(\"Enter a number: \"))\n",
    "    if a == num:\n",
    "        print(\"Your answer is correct\")\n",
    "        break\n",
    "    elif a < num:\n",
    "        print(\"Your answer is less than number\")\n",
    "    elif a > num:\n",
    "        print(\"Your answer is greater than number\")"
   ]
  },
  {
   "cell_type": "code",
   "execution_count": null,
   "metadata": {},
   "outputs": [],
   "source": []
  },
  {
   "cell_type": "code",
   "execution_count": null,
   "metadata": {},
   "outputs": [],
   "source": []
  }
 ],
 "metadata": {
  "kernelspec": {
   "display_name": "Python 3",
   "language": "python",
   "name": "python3"
  },
  "language_info": {
   "codemirror_mode": {
    "name": "ipython",
    "version": 3
   },
   "file_extension": ".py",
   "mimetype": "text/x-python",
   "name": "python",
   "nbconvert_exporter": "python",
   "pygments_lexer": "ipython3",
   "version": "3.7.4"
  }
 },
 "nbformat": 4,
 "nbformat_minor": 2
}
